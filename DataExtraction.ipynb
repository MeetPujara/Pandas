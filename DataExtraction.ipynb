{
 "cells": [
  {
   "cell_type": "code",
   "execution_count": 1,
   "id": "82fc0845",
   "metadata": {},
   "outputs": [],
   "source": [
    "import numpy as np\n",
    "import pandas as pd"
   ]
  },
  {
   "cell_type": "code",
   "execution_count": 2,
   "id": "4310bfa1",
   "metadata": {},
   "outputs": [],
   "source": [
    "df = pd.read_csv('Countries.csv')"
   ]
  },
  {
   "cell_type": "code",
   "execution_count": 3,
   "id": "7694c067",
   "metadata": {},
   "outputs": [
    {
     "data": {
      "text/html": [
       "<div>\n",
       "<style scoped>\n",
       "    .dataframe tbody tr th:only-of-type {\n",
       "        vertical-align: middle;\n",
       "    }\n",
       "\n",
       "    .dataframe tbody tr th {\n",
       "        vertical-align: top;\n",
       "    }\n",
       "\n",
       "    .dataframe thead th {\n",
       "        text-align: right;\n",
       "    }\n",
       "</style>\n",
       "<table border=\"1\" class=\"dataframe\">\n",
       "  <thead>\n",
       "    <tr style=\"text-align: right;\">\n",
       "      <th></th>\n",
       "      <th>country</th>\n",
       "      <th>country_long</th>\n",
       "      <th>currency</th>\n",
       "      <th>capital_city</th>\n",
       "      <th>region</th>\n",
       "      <th>continent</th>\n",
       "      <th>demonym</th>\n",
       "      <th>latitude</th>\n",
       "      <th>longitude</th>\n",
       "      <th>agricultural_land</th>\n",
       "      <th>...</th>\n",
       "      <th>population</th>\n",
       "      <th>women_parliament_seats_pct</th>\n",
       "      <th>rural_population</th>\n",
       "      <th>urban_population</th>\n",
       "      <th>press</th>\n",
       "      <th>democracy_score</th>\n",
       "      <th>democracy_type</th>\n",
       "      <th>median_age</th>\n",
       "      <th>political_leader</th>\n",
       "      <th>title</th>\n",
       "    </tr>\n",
       "  </thead>\n",
       "  <tbody>\n",
       "    <tr>\n",
       "      <th>0</th>\n",
       "      <td>Afghanistan</td>\n",
       "      <td>Islamic State of Afghanistan</td>\n",
       "      <td>Afghan afghani</td>\n",
       "      <td>Kabul</td>\n",
       "      <td>Southern Asia</td>\n",
       "      <td>Asia</td>\n",
       "      <td>Afghan</td>\n",
       "      <td>33.0</td>\n",
       "      <td>65.0</td>\n",
       "      <td>383560.0</td>\n",
       "      <td>...</td>\n",
       "      <td>41128771</td>\n",
       "      <td>27.01610</td>\n",
       "      <td>30181937</td>\n",
       "      <td>10946834</td>\n",
       "      <td>2.14</td>\n",
       "      <td>2.97</td>\n",
       "      <td>Authoritarian</td>\n",
       "      <td>12.9</td>\n",
       "      <td>Ashraf Ghani</td>\n",
       "      <td>President</td>\n",
       "    </tr>\n",
       "    <tr>\n",
       "      <th>1</th>\n",
       "      <td>Albania</td>\n",
       "      <td>Republic of Albania</td>\n",
       "      <td>Albanian lek</td>\n",
       "      <td>Tirana</td>\n",
       "      <td>Southern Europe</td>\n",
       "      <td>Europe</td>\n",
       "      <td>Albanian</td>\n",
       "      <td>41.0</td>\n",
       "      <td>20.0</td>\n",
       "      <td>11655.5</td>\n",
       "      <td>...</td>\n",
       "      <td>2775634</td>\n",
       "      <td>35.71430</td>\n",
       "      <td>1004807</td>\n",
       "      <td>1770827</td>\n",
       "      <td>2.62</td>\n",
       "      <td>5.98</td>\n",
       "      <td>Hybrid regime</td>\n",
       "      <td>33.7</td>\n",
       "      <td>Edi Rama</td>\n",
       "      <td>Prime Minister</td>\n",
       "    </tr>\n",
       "    <tr>\n",
       "      <th>2</th>\n",
       "      <td>Algeria</td>\n",
       "      <td>People's Democratic Republic of Algeria</td>\n",
       "      <td>Algerian dinar</td>\n",
       "      <td>Algiers</td>\n",
       "      <td>Northern Africa</td>\n",
       "      <td>Africa</td>\n",
       "      <td>Algerian</td>\n",
       "      <td>28.0</td>\n",
       "      <td>3.0</td>\n",
       "      <td>413588.0</td>\n",
       "      <td>...</td>\n",
       "      <td>44903225</td>\n",
       "      <td>8.10811</td>\n",
       "      <td>11328186</td>\n",
       "      <td>33575039</td>\n",
       "      <td>1.71</td>\n",
       "      <td>3.50</td>\n",
       "      <td>Authoritarian</td>\n",
       "      <td>24.0</td>\n",
       "      <td>Abdelmadjid Tebboune</td>\n",
       "      <td>President</td>\n",
       "    </tr>\n",
       "    <tr>\n",
       "      <th>3</th>\n",
       "      <td>Andorra</td>\n",
       "      <td>Principality of Andorra</td>\n",
       "      <td>Euro</td>\n",
       "      <td>Andorra la Vella</td>\n",
       "      <td>Southern Europe</td>\n",
       "      <td>Europe</td>\n",
       "      <td>Andorran</td>\n",
       "      <td>42.5</td>\n",
       "      <td>1.5</td>\n",
       "      <td>187.2</td>\n",
       "      <td>...</td>\n",
       "      <td>79824</td>\n",
       "      <td>46.42860</td>\n",
       "      <td>9730</td>\n",
       "      <td>70094</td>\n",
       "      <td>3.17</td>\n",
       "      <td>0.00</td>\n",
       "      <td>Unknown</td>\n",
       "      <td>38.9</td>\n",
       "      <td>Xavier Espot Zamora</td>\n",
       "      <td>Head of Government</td>\n",
       "    </tr>\n",
       "    <tr>\n",
       "      <th>4</th>\n",
       "      <td>Angola</td>\n",
       "      <td>People's Republic of Angola</td>\n",
       "      <td>Angolan kwanza</td>\n",
       "      <td>Luanda</td>\n",
       "      <td>Middle Africa</td>\n",
       "      <td>Africa</td>\n",
       "      <td>Angolan</td>\n",
       "      <td>-12.5</td>\n",
       "      <td>18.5</td>\n",
       "      <td>569525.0</td>\n",
       "      <td>...</td>\n",
       "      <td>35588987</td>\n",
       "      <td>33.63640</td>\n",
       "      <td>11359649</td>\n",
       "      <td>24229338</td>\n",
       "      <td>2.24</td>\n",
       "      <td>3.62</td>\n",
       "      <td>Authoritarian</td>\n",
       "      <td>12.4</td>\n",
       "      <td>João Lourenço</td>\n",
       "      <td>President</td>\n",
       "    </tr>\n",
       "  </tbody>\n",
       "</table>\n",
       "<p>5 rows × 64 columns</p>\n",
       "</div>"
      ],
      "text/plain": [
       "       country                             country_long        currency  \\\n",
       "0  Afghanistan             Islamic State of Afghanistan  Afghan afghani   \n",
       "1      Albania                      Republic of Albania    Albanian lek   \n",
       "2      Algeria  People's Democratic Republic of Algeria  Algerian dinar   \n",
       "3      Andorra                  Principality of Andorra            Euro   \n",
       "4       Angola              People's Republic of Angola  Angolan kwanza   \n",
       "\n",
       "       capital_city           region continent   demonym  latitude  longitude  \\\n",
       "0             Kabul    Southern Asia      Asia    Afghan      33.0       65.0   \n",
       "1            Tirana  Southern Europe    Europe  Albanian      41.0       20.0   \n",
       "2           Algiers  Northern Africa    Africa  Algerian      28.0        3.0   \n",
       "3  Andorra la Vella  Southern Europe    Europe  Andorran      42.5        1.5   \n",
       "4            Luanda    Middle Africa    Africa   Angolan     -12.5       18.5   \n",
       "\n",
       "   agricultural_land  ...  population  women_parliament_seats_pct  \\\n",
       "0           383560.0  ...    41128771                    27.01610   \n",
       "1            11655.5  ...     2775634                    35.71430   \n",
       "2           413588.0  ...    44903225                     8.10811   \n",
       "3              187.2  ...       79824                    46.42860   \n",
       "4           569525.0  ...    35588987                    33.63640   \n",
       "\n",
       "   rural_population  urban_population  press  democracy_score  democracy_type  \\\n",
       "0          30181937          10946834   2.14             2.97   Authoritarian   \n",
       "1           1004807           1770827   2.62             5.98   Hybrid regime   \n",
       "2          11328186          33575039   1.71             3.50   Authoritarian   \n",
       "3              9730             70094   3.17             0.00         Unknown   \n",
       "4          11359649          24229338   2.24             3.62   Authoritarian   \n",
       "\n",
       "   median_age      political_leader               title  \n",
       "0        12.9          Ashraf Ghani           President  \n",
       "1        33.7              Edi Rama      Prime Minister  \n",
       "2        24.0  Abdelmadjid Tebboune           President  \n",
       "3        38.9   Xavier Espot Zamora  Head of Government  \n",
       "4        12.4         João Lourenço           President  \n",
       "\n",
       "[5 rows x 64 columns]"
      ]
     },
     "execution_count": 3,
     "metadata": {},
     "output_type": "execute_result"
    }
   ],
   "source": [
    "df.head()"
   ]
  },
  {
   "cell_type": "markdown",
   "id": "059e8c99",
   "metadata": {},
   "source": [
    "### which country has the highest population"
   ]
  },
  {
   "cell_type": "code",
   "execution_count": 12,
   "id": "ca213f04",
   "metadata": {},
   "outputs": [
    {
     "data": {
      "text/plain": [
       "75    India\n",
       "Name: country, dtype: object"
      ]
     },
     "execution_count": 12,
     "metadata": {},
     "output_type": "execute_result"
    }
   ],
   "source": [
    "df[df['population'] == df['population'].max()]['country']\n",
    "# df.loc[df['country'] == 'India', 'population'].values[0]"
   ]
  },
  {
   "cell_type": "markdown",
   "id": "37ed3fba",
   "metadata": {},
   "source": [
    "### what is the capital of the country with highest population"
   ]
  },
  {
   "cell_type": "code",
   "execution_count": 13,
   "id": "2bb6090f",
   "metadata": {},
   "outputs": [
    {
     "data": {
      "text/plain": [
       "75    New Delhi\n",
       "Name: capital_city, dtype: object"
      ]
     },
     "execution_count": 13,
     "metadata": {},
     "output_type": "execute_result"
    }
   ],
   "source": [
    "df[df['population'] == df['population'].max()]['capital_city']"
   ]
  },
  {
   "cell_type": "markdown",
   "id": "6ffbbd8a",
   "metadata": {},
   "source": [
    "### which country has the least population"
   ]
  },
  {
   "cell_type": "code",
   "execution_count": 14,
   "id": "a0f21c49",
   "metadata": {},
   "outputs": [
    {
     "data": {
      "text/plain": [
       "179    Tuvalu\n",
       "Name: country, dtype: object"
      ]
     },
     "execution_count": 14,
     "metadata": {},
     "output_type": "execute_result"
    }
   ],
   "source": [
    "df[df['population'] == df['population'].min()]['country']"
   ]
  },
  {
   "cell_type": "markdown",
   "id": "c80bf546",
   "metadata": {},
   "source": [
    "### what is the capital of the country with least population"
   ]
  },
  {
   "cell_type": "code",
   "execution_count": 17,
   "id": "9079c50f",
   "metadata": {},
   "outputs": [
    {
     "data": {
      "text/plain": [
       "179    Funafuti\n",
       "Name: capital_city, dtype: object"
      ]
     },
     "execution_count": 17,
     "metadata": {},
     "output_type": "execute_result"
    }
   ],
   "source": [
    "df[df['population'] == df['population'].min()]['capital_city']"
   ]
  },
  {
   "cell_type": "markdown",
   "id": "46edfbe7",
   "metadata": {},
   "source": [
    "### give me top 5 countries with highest democratic score"
   ]
  },
  {
   "cell_type": "code",
   "execution_count": null,
   "id": "1bf90efa",
   "metadata": {},
   "outputs": [
    {
     "data": {
      "text/html": [
       "<div>\n",
       "<style scoped>\n",
       "    .dataframe tbody tr th:only-of-type {\n",
       "        vertical-align: middle;\n",
       "    }\n",
       "\n",
       "    .dataframe tbody tr th {\n",
       "        vertical-align: top;\n",
       "    }\n",
       "\n",
       "    .dataframe thead th {\n",
       "        text-align: right;\n",
       "    }\n",
       "</style>\n",
       "<table border=\"1\" class=\"dataframe\">\n",
       "  <thead>\n",
       "    <tr style=\"text-align: right;\">\n",
       "      <th></th>\n",
       "      <th>country</th>\n",
       "      <th>country_long</th>\n",
       "      <th>currency</th>\n",
       "      <th>capital_city</th>\n",
       "      <th>region</th>\n",
       "      <th>continent</th>\n",
       "      <th>demonym</th>\n",
       "      <th>latitude</th>\n",
       "      <th>longitude</th>\n",
       "      <th>agricultural_land</th>\n",
       "      <th>...</th>\n",
       "      <th>population</th>\n",
       "      <th>women_parliament_seats_pct</th>\n",
       "      <th>rural_population</th>\n",
       "      <th>urban_population</th>\n",
       "      <th>press</th>\n",
       "      <th>democracy_score</th>\n",
       "      <th>democracy_type</th>\n",
       "      <th>median_age</th>\n",
       "      <th>political_leader</th>\n",
       "      <th>title</th>\n",
       "    </tr>\n",
       "  </thead>\n",
       "  <tbody>\n",
       "    <tr>\n",
       "      <th>3</th>\n",
       "      <td>Andorra</td>\n",
       "      <td>Principality of Andorra</td>\n",
       "      <td>Euro</td>\n",
       "      <td>Andorra la Vella</td>\n",
       "      <td>Southern Europe</td>\n",
       "      <td>Europe</td>\n",
       "      <td>Andorran</td>\n",
       "      <td>42.500000</td>\n",
       "      <td>1.500000</td>\n",
       "      <td>187.2</td>\n",
       "      <td>...</td>\n",
       "      <td>79824</td>\n",
       "      <td>46.42860</td>\n",
       "      <td>9730</td>\n",
       "      <td>70094</td>\n",
       "      <td>3.17</td>\n",
       "      <td>0.0</td>\n",
       "      <td>Unknown</td>\n",
       "      <td>38.9</td>\n",
       "      <td>Xavier Espot Zamora</td>\n",
       "      <td>Head of Government</td>\n",
       "    </tr>\n",
       "    <tr>\n",
       "      <th>5</th>\n",
       "      <td>Antigua and Barbuda</td>\n",
       "      <td>Antigua and Barbuda</td>\n",
       "      <td>East Caribbean dollar</td>\n",
       "      <td>Saint John's</td>\n",
       "      <td>Caribbean</td>\n",
       "      <td>Americas</td>\n",
       "      <td>Antiguan</td>\n",
       "      <td>17.050000</td>\n",
       "      <td>-61.800000</td>\n",
       "      <td>90.0</td>\n",
       "      <td>...</td>\n",
       "      <td>93763</td>\n",
       "      <td>11.11110</td>\n",
       "      <td>70935</td>\n",
       "      <td>22828</td>\n",
       "      <td>0.00</td>\n",
       "      <td>0.0</td>\n",
       "      <td>Unknown</td>\n",
       "      <td>31.1</td>\n",
       "      <td>Gaston Browne</td>\n",
       "      <td>Prime Minister</td>\n",
       "    </tr>\n",
       "    <tr>\n",
       "      <th>13</th>\n",
       "      <td>Barbados</td>\n",
       "      <td>Barbados</td>\n",
       "      <td>Barbados dollar</td>\n",
       "      <td>Bridgetown</td>\n",
       "      <td>Caribbean</td>\n",
       "      <td>Americas</td>\n",
       "      <td>Barbadian</td>\n",
       "      <td>13.166667</td>\n",
       "      <td>-59.533333</td>\n",
       "      <td>100.0</td>\n",
       "      <td>...</td>\n",
       "      <td>281635</td>\n",
       "      <td>26.66670</td>\n",
       "      <td>193416</td>\n",
       "      <td>88219</td>\n",
       "      <td>0.00</td>\n",
       "      <td>0.0</td>\n",
       "      <td>Unknown</td>\n",
       "      <td>35.2</td>\n",
       "      <td>Mia Mottley</td>\n",
       "      <td>Prime Minister</td>\n",
       "    </tr>\n",
       "    <tr>\n",
       "      <th>16</th>\n",
       "      <td>Belize</td>\n",
       "      <td>Belize</td>\n",
       "      <td>Belize dollar</td>\n",
       "      <td>Belmopan</td>\n",
       "      <td>Central America</td>\n",
       "      <td>Americas</td>\n",
       "      <td>Belizean</td>\n",
       "      <td>17.250000</td>\n",
       "      <td>-88.750000</td>\n",
       "      <td>1720.0</td>\n",
       "      <td>...</td>\n",
       "      <td>405272</td>\n",
       "      <td>12.50000</td>\n",
       "      <td>217242</td>\n",
       "      <td>188030</td>\n",
       "      <td>2.84</td>\n",
       "      <td>0.0</td>\n",
       "      <td>Unknown</td>\n",
       "      <td>21.6</td>\n",
       "      <td>Dean Barrow</td>\n",
       "      <td>Prime Minister</td>\n",
       "    </tr>\n",
       "    <tr>\n",
       "      <th>23</th>\n",
       "      <td>Brunei</td>\n",
       "      <td>Brunei Darussalam</td>\n",
       "      <td>Brunei dollar</td>\n",
       "      <td>Bandar Seri Begawan</td>\n",
       "      <td>South-Eastern Asia</td>\n",
       "      <td>Asia</td>\n",
       "      <td>Bruneian</td>\n",
       "      <td>4.500000</td>\n",
       "      <td>114.666667</td>\n",
       "      <td>134.0</td>\n",
       "      <td>...</td>\n",
       "      <td>449002</td>\n",
       "      <td>9.09091</td>\n",
       "      <td>94946</td>\n",
       "      <td>354056</td>\n",
       "      <td>1.52</td>\n",
       "      <td>0.0</td>\n",
       "      <td>Unknown</td>\n",
       "      <td>28.2</td>\n",
       "      <td>Hassanal Bolkiah</td>\n",
       "      <td>Sultan and Prime Minister</td>\n",
       "    </tr>\n",
       "  </tbody>\n",
       "</table>\n",
       "<p>5 rows × 64 columns</p>\n",
       "</div>"
      ],
      "text/plain": [
       "                country             country_long               currency  \\\n",
       "3               Andorra  Principality of Andorra                   Euro   \n",
       "5   Antigua and Barbuda      Antigua and Barbuda  East Caribbean dollar   \n",
       "13             Barbados                 Barbados        Barbados dollar   \n",
       "16               Belize                   Belize          Belize dollar   \n",
       "23               Brunei        Brunei Darussalam          Brunei dollar   \n",
       "\n",
       "           capital_city              region continent    demonym   latitude  \\\n",
       "3      Andorra la Vella     Southern Europe    Europe   Andorran  42.500000   \n",
       "5          Saint John's           Caribbean  Americas   Antiguan  17.050000   \n",
       "13           Bridgetown           Caribbean  Americas  Barbadian  13.166667   \n",
       "16             Belmopan     Central America  Americas   Belizean  17.250000   \n",
       "23  Bandar Seri Begawan  South-Eastern Asia      Asia   Bruneian   4.500000   \n",
       "\n",
       "     longitude  agricultural_land  ...  population  \\\n",
       "3     1.500000              187.2  ...       79824   \n",
       "5   -61.800000               90.0  ...       93763   \n",
       "13  -59.533333              100.0  ...      281635   \n",
       "16  -88.750000             1720.0  ...      405272   \n",
       "23  114.666667              134.0  ...      449002   \n",
       "\n",
       "    women_parliament_seats_pct  rural_population  urban_population  press  \\\n",
       "3                     46.42860              9730             70094   3.17   \n",
       "5                     11.11110             70935             22828   0.00   \n",
       "13                    26.66670            193416             88219   0.00   \n",
       "16                    12.50000            217242            188030   2.84   \n",
       "23                     9.09091             94946            354056   1.52   \n",
       "\n",
       "    democracy_score  democracy_type  median_age     political_leader  \\\n",
       "3               0.0         Unknown        38.9  Xavier Espot Zamora   \n",
       "5               0.0         Unknown        31.1        Gaston Browne   \n",
       "13              0.0         Unknown        35.2          Mia Mottley   \n",
       "16              0.0         Unknown        21.6          Dean Barrow   \n",
       "23              0.0         Unknown        28.2     Hassanal Bolkiah   \n",
       "\n",
       "                        title  \n",
       "3          Head of Government  \n",
       "5              Prime Minister  \n",
       "13             Prime Minister  \n",
       "16             Prime Minister  \n",
       "23  Sultan and Prime Minister  \n",
       "\n",
       "[5 rows x 64 columns]"
      ]
     },
     "execution_count": 20,
     "metadata": {},
     "output_type": "execute_result"
    }
   ],
   "source": [
    "df.nlargest(5,'democracy_score')\n",
    "# df.nsmallest(5,'democracy_score')"
   ]
  },
  {
   "cell_type": "markdown",
   "id": "963a6c47",
   "metadata": {},
   "source": [
    "### how many total regions are there"
   ]
  },
  {
   "cell_type": "code",
   "execution_count": 27,
   "id": "35822dec",
   "metadata": {},
   "outputs": [
    {
     "data": {
      "text/plain": [
       "22"
      ]
     },
     "execution_count": 27,
     "metadata": {},
     "output_type": "execute_result"
    }
   ],
   "source": [
    "df['region'].value_counts().count()"
   ]
  },
  {
   "cell_type": "markdown",
   "id": "e2881b08",
   "metadata": {},
   "source": [
    "### how many countries lie in Eastern Europe region"
   ]
  },
  {
   "cell_type": "code",
   "execution_count": 29,
   "id": "27565375",
   "metadata": {},
   "outputs": [
    {
     "data": {
      "text/plain": [
       "14             Belarus\n",
       "24            Bulgaria\n",
       "43      Czech Republic\n",
       "73             Hungary\n",
       "111            Moldova\n",
       "136             Poland\n",
       "139            Romania\n",
       "140             Russia\n",
       "151    Slovak Republic\n",
       "181            Ukraine\n",
       "Name: country, dtype: object"
      ]
     },
     "execution_count": 29,
     "metadata": {},
     "output_type": "execute_result"
    }
   ],
   "source": [
    "df[df['region'] == 'Eastern Europe']['country']"
   ]
  },
  {
   "cell_type": "markdown",
   "id": "67e00dea",
   "metadata": {},
   "source": [
    "### who is the political leader of the 2nd highest populated country\n",
    "- We use `iloc[1]` to select the second row in the DataFrame after sorting by population in descending order. The first row (`iloc[0]`) is the country with the highest population, so `iloc[1]` gives us the country with the second highest population.\n"
   ]
  },
  {
   "cell_type": "code",
   "execution_count": 39,
   "id": "3ef4e187",
   "metadata": {},
   "outputs": [
    {
     "data": {
      "text/plain": [
       "'Xi Jinping'"
      ]
     },
     "execution_count": 39,
     "metadata": {},
     "output_type": "execute_result"
    }
   ],
   "source": [
    "df.sort_values('population', ascending=False).iloc[1]['political_leader']"
   ]
  },
  {
   "cell_type": "markdown",
   "id": "d39a7e3b",
   "metadata": {},
   "source": [
    "### how many countries are there whoes political leaders are unknown"
   ]
  },
  {
   "cell_type": "code",
   "execution_count": 44,
   "id": "fc9f1559",
   "metadata": {},
   "outputs": [
    {
     "data": {
      "text/plain": [
       "7"
      ]
     },
     "execution_count": 44,
     "metadata": {},
     "output_type": "execute_result"
    }
   ],
   "source": [
    "df[df['political_leader'].isna()]['country'].count()"
   ]
  },
  {
   "cell_type": "markdown",
   "id": "de3b522e",
   "metadata": {},
   "source": [
    "### how many country have Republic in their full name"
   ]
  },
  {
   "cell_type": "code",
   "execution_count": 45,
   "id": "f4434e2d",
   "metadata": {},
   "outputs": [
    {
     "data": {
      "text/plain": [
       "125"
      ]
     },
     "execution_count": 45,
     "metadata": {},
     "output_type": "execute_result"
    }
   ],
   "source": [
    "df[df['country_long'].str.contains('Republic', case=False, na=False)]['country'].count()"
   ]
  },
  {
   "cell_type": "markdown",
   "id": "ebd91e83",
   "metadata": {},
   "source": [
    "### which country in african region has highest population"
   ]
  },
  {
   "cell_type": "code",
   "execution_count": 46,
   "id": "c28e85c2",
   "metadata": {},
   "outputs": [],
   "source": [
    "df_africa = df[df['continent'] == 'Africa']"
   ]
  },
  {
   "cell_type": "code",
   "execution_count": 47,
   "id": "247171de",
   "metadata": {},
   "outputs": [
    {
     "data": {
      "text/html": [
       "<div>\n",
       "<style scoped>\n",
       "    .dataframe tbody tr th:only-of-type {\n",
       "        vertical-align: middle;\n",
       "    }\n",
       "\n",
       "    .dataframe tbody tr th {\n",
       "        vertical-align: top;\n",
       "    }\n",
       "\n",
       "    .dataframe thead th {\n",
       "        text-align: right;\n",
       "    }\n",
       "</style>\n",
       "<table border=\"1\" class=\"dataframe\">\n",
       "  <thead>\n",
       "    <tr style=\"text-align: right;\">\n",
       "      <th></th>\n",
       "      <th>country</th>\n",
       "      <th>country_long</th>\n",
       "      <th>currency</th>\n",
       "      <th>capital_city</th>\n",
       "      <th>region</th>\n",
       "      <th>continent</th>\n",
       "      <th>demonym</th>\n",
       "      <th>latitude</th>\n",
       "      <th>longitude</th>\n",
       "      <th>agricultural_land</th>\n",
       "      <th>...</th>\n",
       "      <th>population</th>\n",
       "      <th>women_parliament_seats_pct</th>\n",
       "      <th>rural_population</th>\n",
       "      <th>urban_population</th>\n",
       "      <th>press</th>\n",
       "      <th>democracy_score</th>\n",
       "      <th>democracy_type</th>\n",
       "      <th>median_age</th>\n",
       "      <th>political_leader</th>\n",
       "      <th>title</th>\n",
       "    </tr>\n",
       "  </thead>\n",
       "  <tbody>\n",
       "    <tr>\n",
       "      <th>125</th>\n",
       "      <td>Nigeria</td>\n",
       "      <td>Federal Republic of Nigeria</td>\n",
       "      <td>Nigerian naira</td>\n",
       "      <td>Abuja</td>\n",
       "      <td>Western Africa</td>\n",
       "      <td>Africa</td>\n",
       "      <td>Nigerian</td>\n",
       "      <td>10.0</td>\n",
       "      <td>8.0</td>\n",
       "      <td>694500.0</td>\n",
       "      <td>...</td>\n",
       "      <td>218541212</td>\n",
       "      <td>3.61111</td>\n",
       "      <td>101575770</td>\n",
       "      <td>116965442</td>\n",
       "      <td>2.14</td>\n",
       "      <td>4.44</td>\n",
       "      <td>Hybrid regime</td>\n",
       "      <td>13.2</td>\n",
       "      <td>Muhammadu Buhari</td>\n",
       "      <td>President</td>\n",
       "    </tr>\n",
       "  </tbody>\n",
       "</table>\n",
       "<p>1 rows × 64 columns</p>\n",
       "</div>"
      ],
      "text/plain": [
       "     country                 country_long        currency capital_city  \\\n",
       "125  Nigeria  Federal Republic of Nigeria  Nigerian naira        Abuja   \n",
       "\n",
       "             region continent   demonym  latitude  longitude  \\\n",
       "125  Western Africa    Africa  Nigerian      10.0        8.0   \n",
       "\n",
       "     agricultural_land  ...  population  women_parliament_seats_pct  \\\n",
       "125           694500.0  ...   218541212                     3.61111   \n",
       "\n",
       "     rural_population  urban_population  press  democracy_score  \\\n",
       "125         101575770         116965442   2.14             4.44   \n",
       "\n",
       "     democracy_type  median_age  political_leader      title  \n",
       "125   Hybrid regime        13.2  Muhammadu Buhari  President  \n",
       "\n",
       "[1 rows x 64 columns]"
      ]
     },
     "execution_count": 47,
     "metadata": {},
     "output_type": "execute_result"
    }
   ],
   "source": [
    "df_africa[df_africa['population'] == df_africa['population'].max()]"
   ]
  }
 ],
 "metadata": {
  "kernelspec": {
   "display_name": "myenv",
   "language": "python",
   "name": "python3"
  },
  "language_info": {
   "codemirror_mode": {
    "name": "ipython",
    "version": 3
   },
   "file_extension": ".py",
   "mimetype": "text/x-python",
   "name": "python",
   "nbconvert_exporter": "python",
   "pygments_lexer": "ipython3",
   "version": "3.12.6"
  }
 },
 "nbformat": 4,
 "nbformat_minor": 5
}
